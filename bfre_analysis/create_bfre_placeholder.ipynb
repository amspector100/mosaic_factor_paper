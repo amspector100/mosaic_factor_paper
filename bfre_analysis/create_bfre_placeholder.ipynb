{
 "cells": [
  {
   "cell_type": "markdown",
   "id": "95454ce2-21ec-4190-a383-0a11377a08e4",
   "metadata": {},
   "source": [
    "# Generate BFRE placeholder data"
   ]
  },
  {
   "cell_type": "markdown",
   "id": "c24a5f28-f8db-4a0f-a7da-85aac2b43cdf",
   "metadata": {},
   "source": [
    "The BFRE dataset is not publicly available. However, in this notebook, we generate completely synthetic data that mimics the structure of the BFRE model. This allows one to run the ``bfre_analysis`` notebook on the synthetic (placeholder) data."
   ]
  },
  {
   "cell_type": "markdown",
   "id": "89712f1d-6d04-4acd-a217-878023d21b9a",
   "metadata": {},
   "source": [
    "## Imports"
   ]
  },
  {
   "cell_type": "code",
   "execution_count": null,
   "id": "1fd1050f-7ef0-42be-9e2c-a55e4b3029a6",
   "metadata": {},
   "outputs": [],
   "source": [
    "import os\n",
    "import sys\n",
    "# Import custom code---you can also just install mosaicperm via pip\n",
    "sys.path.insert(0, \"../../mosaicperm/\")\n",
    "import mosaicperm as mp\n",
    "from mosaicperm.utilities import elapsed, vrange\n",
    "from bfre_preprocessing import load_data, CACHE_DIR, DATA_DIR\n",
    "\n",
    "# Typical imports\n",
    "import time\n",
    "import numpy as np\n",
    "import pandas as pd\n",
    "from scipy import stats\n",
    "import scipy.sparse as sp\n",
    "import datetime \n",
    "\n",
    "# Plotting\n",
    "import matplotlib.pyplot as plt\n",
    "import seaborn as sns\n",
    "import warnings\n",
    "from plotnine import *\n",
    "\n",
    "# Save directory\n",
    "PLACEHOLDER_DIR = \"../data/bfre_placeholder\""
   ]
  },
  {
   "cell_type": "markdown",
   "id": "fc070116-f8ae-4d4a-ab57-be956704ec8b",
   "metadata": {},
   "source": [
    "## Create placeholder data"
   ]
  },
  {
   "cell_type": "code",
   "execution_count": null,
   "id": "d287b8cd-247d-4581-96a8-f2d20b1aaa65",
   "metadata": {},
   "outputs": [],
   "source": [
    "np.random.seed(123)"
   ]
  },
  {
   "cell_type": "code",
   "execution_count": null,
   "id": "c3040673-d62e-42cd-bd88-df58142f01ac",
   "metadata": {},
   "outputs": [],
   "source": [
    "data = load_data()"
   ]
  },
  {
   "cell_type": "code",
   "execution_count": null,
   "id": "c1044e02-dd12-4031-812d-d330e807aee1",
   "metadata": {},
   "outputs": [],
   "source": [
    "## Copy dimensionality and null pattern from original data\n",
    "dates = data['outcomes'].index\n",
    "T, p = data['outcomes'].shape\n",
    "asset_ids = [f'STOCK{k}' for k in range(10000, 10000+p)]"
   ]
  },
  {
   "cell_type": "code",
   "execution_count": null,
   "id": "08000541-47a3-4ce3-8104-b77ca804a04b",
   "metadata": {},
   "outputs": [],
   "source": [
    "# Time-varying heteroskedasticity\n",
    "timedeltas = (dates - datetime.datetime(2020, 2, 20)).values.astype(float) / 1e17\n",
    "sigma_t = np.ones(len(dates))\n",
    "sigma_t += (timedeltas > 0) / (0.5 + timedeltas)\n",
    "sigma_t = sigma_t.reshape(-1, 1)"
   ]
  },
  {
   "cell_type": "code",
   "execution_count": null,
   "id": "cf7cce68-d9ae-459a-a46b-e7739679e227",
   "metadata": {},
   "outputs": [],
   "source": [
    "np.random.seed(123)\n",
    "### Create fake exposures/industries\n",
    "inds = [\n",
    "    'EGY', 'HLC', 'HLC',\n",
    "    'CDI', 'IND', 'ITC', 'ITCSOFT',\n",
    "    'UTL', 'MAT', 'CST', \n",
    "    'FINREAL', 'FIN', 'FINBANK',\n",
    "]\n",
    "industries = pd.Series(\n",
    "    np.random.choice(inds, size=len(asset_ids), replace=True),\n",
    "    index=asset_ids,\n",
    ")\n",
    "industries.index.name = 'ASSET'\n",
    "industries.name = 'Industry'\n",
    "\n",
    "### Create exposures   \n",
    "# industry exposures\n",
    "ind_exposures = []\n",
    "for ind in inds:\n",
    "    ind_exposures.append((industries == ind).astype(float))\n",
    "ind_exposures = np.stack(ind_exposures, axis=1)\n",
    "ind_exposures = np.stack([ind_exposures for _ in range(T)], axis=0)\n",
    "# cts exposures\n",
    "k = 20\n",
    "cts_exposures = np.zeros((T, p, k))\n",
    "# markers where the exposures change\n",
    "starts = np.around(np.linspace(0, T, int(T/5))).astype(int)\n",
    "ends = starts[1:]\n",
    "starts = starts[0:-1]\n",
    "dfs = 4 / (sigma_t / sigma_t.max())\n",
    "for start, end in zip(starts, ends):\n",
    "    cts_exposures[start:end] = stats.t(df=dfs[start]).rvs(size=(p, k))\n",
    "\n",
    "exposures = np.concatenate(\n",
    "    [np.ones((T, p, 1)), ind_exposures, cts_exposures], \n",
    "    axis=-1\n",
    ")\n",
    "factor_cols = np.array(['MARKET'] + inds + [f'fake_factor{ell}' for ell in range(k)])"
   ]
  },
  {
   "cell_type": "code",
   "execution_count": null,
   "id": "16d98341-a5b9-47be-9756-63be3cb223df",
   "metadata": {},
   "outputs": [],
   "source": [
    "np.random.seed(123)\n",
    "### Create residuals\n",
    "# Asset-varying heteroskedasticity\n",
    "sigma_j = np.random.uniform(0.1, 1, size=len(asset_ids))\n",
    "epsilon = sigma_t * np.random.randn(*data['outcomes'].shape) * sigma_j\n",
    "# Add non-null noise\n",
    "np.random.seed(123)\n",
    "covid = datetime.datetime(2020, 2, 20)\n",
    "sdate = datetime.datetime(2000, 1, 1)\n",
    "## Create null violations for three industries\n",
    "## starting at different times\n",
    "for industry, start_date, transient in zip(\n",
    "    ['HLC', 'FINREAL', 'ITC'],\n",
    "    [covid, sdate, sdate],\n",
    "    [True, False, False],\n",
    "):\n",
    "    t_inds = np.where(dates >= start_date)[0]\n",
    "    j_inds = [i for i, asset in enumerate(asset_ids) if industries[asset][0:len(industry)] == industry]\n",
    "    nonnull_inds = np.random.choice(j_inds, 50)\n",
    "    if not transient:\n",
    "        epsilon[np.ix_(t_inds, nonnull_inds)] += 2 * np.random.randn(len(t_inds)).reshape(-1, 1)\n",
    "    else:\n",
    "        # additional exposures vary over time\n",
    "        addn_exposures = np.stack(\n",
    "            [\n",
    "                np.convolve(np.random.randn(len(t_inds)) + np.linspace(1, 0.2, len(t_inds)), np.ones(200) / 200, mode='same')\n",
    "                for _ in nonnull_inds\n",
    "            ], \n",
    "            axis=1\n",
    "        )\n",
    "        epsilon[np.ix_(t_inds, nonnull_inds)] += addn_exposures * np.random.randn(len(t_inds), 1)\n",
    "\n",
    "## True outcomes\n",
    "Y = epsilon + 2 * np.sum(exposures * np.random.randn(T, 1, exposures.shape[-1]), axis=-1) / np.sqrt(exposures.shape[-1])\n",
    "Y /= (5*Y.std())\n",
    "Y += 1\n",
    "\n",
    "## Outcomes\n",
    "outcomes = pd.DataFrame(\n",
    "    Y,\n",
    "    index=dates,\n",
    "    columns=asset_ids\n",
    ")"
   ]
  },
  {
   "cell_type": "code",
   "execution_count": null,
   "id": "4d28073c-680f-44a8-9d11-17498ca095e7",
   "metadata": {},
   "outputs": [],
   "source": [
    "# Save results\n",
    "np.save(f\"{PLACEHOLDER_DIR}/exposures.npy\", exposures)\n",
    "np.save(f\"{PLACEHOLDER_DIR}/factor_cols.npy\", factor_cols)\n",
    "pd.DataFrame(industries).to_csv(f\"{PLACEHOLDER_DIR}/industries.csv\")\n",
    "outcomes.to_csv(f\"{PLACEHOLDER_DIR}/returns.csv\")"
   ]
  },
  {
   "cell_type": "code",
   "execution_count": null,
   "id": "47657c51-6412-4ae0-8fb7-33b6945b8a45",
   "metadata": {},
   "outputs": [],
   "source": [
    "asset_names = pd.Series(\n",
    "    asset_ids, index=asset_ids\n",
    ")\n",
    "asset_names.name = \"name_sec\"\n",
    "asset_names.index.name = \"invariant_id\"\n",
    "pd.DataFrame(asset_names).to_csv(f\"{PLACEHOLDER_DIR}/assets_id_to_name.csv\")"
   ]
  },
  {
   "cell_type": "markdown",
   "id": "1ac3df09-adb3-461c-8c78-eb9f4ecceac0",
   "metadata": {},
   "source": [
    "## Simulation exposures"
   ]
  },
  {
   "cell_type": "code",
   "execution_count": null,
   "id": "dc6b3b98-908e-4a89-8d8c-aaea873e9d9c",
   "metadata": {},
   "outputs": [],
   "source": [
    "np.random.seed(123)\n",
    "L = np.load(\"../data/bfre_cache/simulation_exposures.npy\")\n",
    "Lfake = L.std(axis=0) * np.random.randn(*L.shape) * L.std(axis=1).reshape(-1, 1)\n",
    "np.save(f\"{PLACEHOLDER_DIR}/simulation_exposures\", Lfake)"
   ]
  }
 ],
 "metadata": {
  "kernelspec": {
   "display_name": "Python 3.9",
   "language": "python",
   "name": "python3.9"
  },
  "language_info": {
   "codemirror_mode": {
    "name": "ipython",
    "version": 3
   },
   "file_extension": ".py",
   "mimetype": "text/x-python",
   "name": "python",
   "nbconvert_exporter": "python",
   "pygments_lexer": "ipython3",
   "version": "3.9.16"
  }
 },
 "nbformat": 4,
 "nbformat_minor": 5
}
